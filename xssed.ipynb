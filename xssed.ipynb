{
 "cells": [
  {
   "cell_type": "code",
   "execution_count": 7,
   "metadata": {},
   "outputs": [],
   "source": [
    "from bs4 import BeautifulSoup\n",
    "import requests"
   ]
  },
  {
   "cell_type": "code",
   "execution_count": 2,
   "metadata": {},
   "outputs": [],
   "source": [
    "url = \"http://www.xssed.com/archive/page={}/\""
   ]
  },
  {
   "cell_type": "code",
   "execution_count": 3,
   "metadata": {},
   "outputs": [],
   "source": [
    "mirrors = []\n",
    "for i in range(1,31):\n",
    "    r = requests.get(url.format(1))\n",
    "    soup = BeautifulSoup(r.content,\"html5lib\")\n",
    "\n",
    "    for link in soup.find_all('a'):\n",
    "        if \"mirror\" in link.get(\"href\"):\n",
    "            mirrors.append(link.get(\"href\"))"
   ]
  },
  {
   "cell_type": "code",
   "execution_count": null,
   "metadata": {},
   "outputs": [
    {
     "data": {
      "text/plain": [
       "'/mirror/81282/'"
      ]
     },
     "execution_count": 10,
     "metadata": {},
     "output_type": "execute_result"
    }
   ],
   "source": [
    "mirrors[0]"
   ]
  },
  {
   "cell_type": "code",
   "execution_count": null,
   "metadata": {},
   "outputs": [],
   "source": [
    "url = \"http://www.xssed.com{}\"\n",
    "malicious_urls = []\n",
    "mirror_urls = []\n",
    "\n",
    "for m in mirrors:\n",
    "    mirror = url.format(m)\n",
    "    r = requests.get(mirror)\n",
    "    soup = BeautifulSoup(r.content,\"html5lib\")\n",
    "    malicious_urls.append(soup.select(\"#contentpaneOpen > table > tbody > tr:nth-child(4) > th\")[0].text[5:])\n",
    "    mirror_urls.append(soup.select(\"#contentpaneOpen > table > tbody > tr:nth-child(5) > th > a\")[0].get(\"href\"))"
   ]
  },
  {
   "cell_type": "code",
   "execution_count": 28,
   "metadata": {},
   "outputs": [],
   "source": [
    "def write_file(filename,strings):\n",
    "    with open(filename, \"w\") as file:\n",
    "        for string in strings:\n",
    "            file.write(string + \"\\n\")\n",
    "\n",
    "write_file(\"mirrors.txt\",mirror_urls)\n",
    "write_file(\"malicious_urls.txt\",malicious_urls)"
   ]
  },
  {
   "cell_type": "code",
   "execution_count": 1,
   "metadata": {},
   "outputs": [],
   "source": [
    "import re"
   ]
  },
  {
   "cell_type": "code",
   "execution_count": 2,
   "metadata": {},
   "outputs": [],
   "source": [
    "end = red = yellow = ''\n",
    "\n",
    "def dom(response):\n",
    "    print(response)\n",
    "    highlighted = []\n",
    "    sources = r'''\\b(?:document\\.(URL|documentURI|URLUnencoded|baseURI|cookie|referrer)|location\\.(href|search|hash|pathname)|window\\.name|history\\.(pushState|replaceState)(local|session)Storage)\\b'''\n",
    "    sinks = r'''\\b(?:eval|evaluate|execCommand|assign|navigate|getResponseHeaderopen|showModalDialog|Function|set(Timeout|Interval|Immediate)|execScript|crypto.generateCRMFRequest|ScriptElement\\.(src|text|textContent|innerText)|.*?\\.onEventName|document\\.(write|writeln)|.*?\\.innerHTML|Range\\.createContextualFragment|(document|window)\\.location)\\b'''\n",
    "    scripts = re.findall(r'(?i)(?s)<script[^>]*>(.*?)</script>', response)\n",
    "    sinkFound, sourceFound = False, False\n",
    "    for script in scripts:\n",
    "        script = script.split('\\n')\n",
    "        num = 1\n",
    "        allControlledVariables = set()\n",
    "        try:\n",
    "            for newLine in script:\n",
    "                line = newLine\n",
    "                parts = line.split('var ')\n",
    "                controlledVariables = set()\n",
    "                if len(parts) > 1:\n",
    "                    for part in parts:\n",
    "                        for controlledVariable in allControlledVariables:\n",
    "                            if controlledVariable in part:\n",
    "                                controlledVariables.add(re.search(r'[a-zA-Z$_][a-zA-Z0-9$_]+', part).group().replace('$', '\\$'))\n",
    "                pattern = re.finditer(sources, newLine)\n",
    "                for grp in pattern:\n",
    "                    if grp:\n",
    "                        source = newLine[grp.start():grp.end()].replace(' ', '')\n",
    "                        if source:\n",
    "                            if len(parts) > 1:\n",
    "                               for part in parts:\n",
    "                                    if source in part:\n",
    "                                        controlledVariables.add(re.search(r'[a-zA-Z$_][a-zA-Z0-9$_]+', part).group().replace('$', '\\$'))\n",
    "                            line = line.replace(source, yellow + source + end)\n",
    "                for controlledVariable in controlledVariables:\n",
    "                    allControlledVariables.add(controlledVariable)\n",
    "                for controlledVariable in allControlledVariables:\n",
    "                    matches = list(filter(None, re.findall(r'\\b%s\\b' % controlledVariable, line)))\n",
    "                    if matches:\n",
    "                        sourceFound = True\n",
    "                        line = re.sub(r'\\b%s\\b' % controlledVariable, yellow + controlledVariable + end, line)\n",
    "                pattern = re.finditer(sinks, newLine)\n",
    "                for grp in pattern:\n",
    "                    if grp:\n",
    "                        sink = newLine[grp.start():grp.end()].replace(' ', '')\n",
    "                        if sink:\n",
    "                            line = line.replace(sink, red + sink + end)\n",
    "                            sinkFound = True\n",
    "                if line != newLine:\n",
    "                    highlighted.append('%-3s %s' % (str(num), line.lstrip(' ')))\n",
    "                num += 1\n",
    "        except MemoryError:\n",
    "            pass\n",
    "    if sinkFound or sourceFound:\n",
    "        return highlighted\n",
    "    else:\n",
    "        return []"
   ]
  },
  {
   "cell_type": "code",
   "execution_count": 5,
   "metadata": {},
   "outputs": [
    {
     "data": {
      "text/plain": [
       "'http://vuln.xssed.net/2014/08/18/webcenters.netscape.compuserve.com/'"
      ]
     },
     "execution_count": 5,
     "metadata": {},
     "output_type": "execute_result"
    }
   ],
   "source": [
    "def file_to_list(filename):\n",
    "    lines = []\n",
    "    with open(filename,'r') as file:\n",
    "        for line in file:\n",
    "            cleaned_line = line.strip()\n",
    "            lines.append(cleaned_line)\n",
    "    return lines\n",
    "\n",
    "mirrors = file_to_list(\"mirrors.txt\")"
   ]
  },
  {
   "cell_type": "code",
   "execution_count": 15,
   "metadata": {},
   "outputs": [
    {
     "name": "stdout",
     "output_type": "stream",
     "text": [
      "http://vuln.xssed.net/2014/01/05/store.samsung.com/\n"
     ]
    },
    {
     "data": {
      "text/plain": [
       "[]"
      ]
     },
     "execution_count": 15,
     "metadata": {},
     "output_type": "execute_result"
    }
   ],
   "source": [
    "print(mirrors[1])\n",
    "dom(requests.get(mirrors[1]).text)"
   ]
  },
  {
   "cell_type": "code",
   "execution_count": 13,
   "metadata": {},
   "outputs": [
    {
     "name": "stdout",
     "output_type": "stream",
     "text": [
      "[]\n",
      "[]\n",
      "[]\n",
      "[]\n",
      "[]\n",
      "[]\n",
      "[]\n",
      "[]\n",
      "[]\n",
      "[]\n",
      "[]\n",
      "[]\n",
      "[]\n",
      "[]\n",
      "[]\n",
      "[]\n",
      "[]\n",
      "[]\n",
      "[]\n",
      "[]\n",
      "[]\n",
      "[]\n",
      "[]\n",
      "[]\n",
      "[]\n",
      "[]\n",
      "[]\n",
      "[]\n",
      "[]\n",
      "[]\n",
      "[]\n",
      "[]\n",
      "[]\n",
      "[]\n",
      "[]\n",
      "[]\n",
      "[]\n",
      "[]\n",
      "[]\n",
      "[]\n",
      "[]\n",
      "[]\n",
      "[]\n",
      "[]\n",
      "[]\n",
      "[]\n",
      "[]\n",
      "[]\n",
      "[]\n",
      "[]\n",
      "[]\n",
      "[]\n",
      "[]\n",
      "[]\n",
      "[]\n",
      "[]\n",
      "[]\n",
      "[]\n",
      "[]\n",
      "[]\n",
      "[]\n",
      "[]\n",
      "[]\n",
      "[]\n",
      "[]\n",
      "[]\n",
      "[]\n",
      "[]\n",
      "[]\n",
      "[]\n",
      "[]\n",
      "[]\n",
      "[]\n",
      "[]\n",
      "[]\n",
      "[]\n",
      "[]\n",
      "[]\n",
      "[]\n",
      "[]\n",
      "[]\n",
      "[]\n",
      "[]\n",
      "[]\n",
      "[]\n",
      "[]\n",
      "[]\n",
      "[]\n",
      "[]\n",
      "[]\n"
     ]
    }
   ],
   "source": [
    "for i in range(10,100):\n",
    "    print(dom(requests.get(mirrors[i]).text))"
   ]
  },
  {
   "cell_type": "code",
   "execution_count": 14,
   "metadata": {},
   "outputs": [
    {
     "data": {
      "text/plain": [
       "'\\r\\n<!DOCTYPE html PUBLIC \"-//W3C//DTD XHTML 1.0 Transitional//EN\" \"http://www.w3.org/TR/xhtml1/DTD/xhtml1-transitional.dtd\">\\r\\n<html xmlns=\"http://www.w3.org/1999/xhtml\">\\r\\n<head>\\r\\n<meta http-equiv=\"Content-Type\" content=\"text/html; charset=utf-8\" />\\r\\n<meta http-equiv=\"pragma\" content=\"no-cache\" />\\r\\n<meta http-equiv=\"cache-control\" content=\"no-cache\" />\\r\\n<meta http-equiv=\"expires\" content=\"0\" />\\r\\n<meta http-equiv=\"keywords\" content=\"\" />\\r\\n<meta http-equiv=\"description\" content=\"HSIN Login\" />\\r\\n<title>HSIN &gt; Login</title>\\r\\n<link href=\"css/hsinstyle.css\" rel=\"stylesheet\" type=\"text/css\" />\\r\\n<script language=\"javascript\" src=\"javascript/hsinscript.js\"></script>\\r\\n<style type=\"text/css\">\\r\\nbody {\\r\\n\\tmargin-left: 0px;\\r\\n\\tmargin-top: 0px;\\r\\n\\tmargin-right: 0px;\\r\\n\\tmargin-bottom: 0px;\\r\\n\\tbackground-color: #003366;\\r\\n\\tfont-size:10pt;\\r\\n\\tpadding:0;\\r\\n\\tmargin:0 auto;\\r\\n}\\r\\nbody, h1, h2 {font-family:Arial;}\\r\\nh1 {font-size:1.2em;}\\r\\n/*Footer*/\\r\\n.footer {\\r\\n\\tdisplay:block;\\r\\n\\tclear:both;\\r\\n\\tmin-height:150px;\\r\\n\\tbottom:0;\\r\\n\\toverflow:hidden;\\r\\n\\ttext-align:center;\\r\\n\\tpadding:20px;\\r\\n\\tpadding-top:50px;\\r\\n\\tcolor:#efefef;\\r\\n\\tpadding-left:5%;\\r\\n\\tpadding-right:5%;\\r\\n\\topacity:.35;\\r\\n}\\r\\n\\tlabel, p.label {float:left;clear:both;text-align:right;vertical-align:top;width:75px;padding-top:5px;}\\r\\n\\tbody, p, input, select, option {font-family: Arial, sans-serif; vertical-align:middle; }\\r\\n\\t.error {height:25px;margin-top:30px;padding:5px;text-align:center;color:#ff0000;}\\r\\n    .signin {height:200px;width:400px;background:url(\"signin.png\") top left no-repeat;margin-top:30px;padding-top:35px;text-align:center;color:#003366;padding-right:0px;}\\r\\n\\t.signup {height:361px;width:410px;background:url(\"signup.png\") top left no-repeat;margin-top:0px;padding-top:30px;text-align:left;padding-left:15px;padding-right:15px;margin-right:15px;color:#ccc;}\\r\\n\\t.signup p {width:380px;}\\r\\n\\t.password {clear:both;font-size:.75em;text-align:left;padding:2px;margin-left:8px;}\\r\\n\\t.password a {color:#006699;}\\r\\n\\t.signin p {margin-bottom:2px;padding-left:60px;}\\r\\n\\t#alternate {text-align:left;width:100%;}\\r\\n\\t#alternate h3 {font-size:1.0em;padding-top:10px;}\\r\\n\\t#alternate img {opacity:.35}\\r\\n\\t#alternate img:hover {opacity:1}\\r\\n\\t#help {text-align:left;width:100%;}\\r\\n\\t#helpimg {float:left}\\r\\n\\t#helpcontent {padding-top:7px; padding-left:35px; margin-left:0px}\\r\\n\\t#continue {float:right; vertical-align:bottom;margin-right:25px;}\\r\\n\\t.cell {padding-top:50px;padding-left:10px;padding-right:10px;}\\r\\n\\t#username {width:150px;text-align:left;margin-left:10px;float:left;margin-top:2px;background-color:#f9f9f9;border:1px solid #003366;}\\r\\n\\t#password {width:90px;text-align:left;margin-left:10px;float:left;margin-top:2px;background-color:#f9f9f9;border:1px solid #003366}\\r\\n\\t#login {width:50px;background:url(\"login.png\");margin-left:10px;float:left;no-repeat;height:20px;border:none;color:#efefef}\\r\\n</style>\\r\\n</head>\\r\\n\\r\\n\\r\\n\\r\\n\\r\\n\\r\\n\\r\\n<body>\\r\\n<form action=\"/oam/server/auth_cred_submit\" method=\"post\">\\r\\n\\r\\n<table width=\"100%\" border=\"0\" cellpadding=\"0\" cellspacing=\"0\" summary=\"Layout Only\">\\r\\n<tr>\\r\\n<td align=\"center\"><img src=\"hsin_banner.jpg\" width=\"900\" height=\"123\" alt=\"HSIN Banner\" /></td>\\r\\n</tr>\\r\\n<tr>\\r\\n<td border=\"1\" align=\"center\" bgcolor=\"#006699\"><h1 class=\"subtitle\">HSIN is a user-driven, Web-based unclassified information sharing platform that connects all homeland security mission partners.   The HSIN web-portal makes possible the sharing of Sensitive But Unclassified (SBU) information among all levels of government in support of the homeland security mission.   The HSIN portal brings together homeland security partners across the spectrum from law enforcement, critical infrastructure, emergency management, and fire and emergency services to public health, intelligence, and defense.</h1></td>\\r\\n</tr>\\r\\n<tr>\\r\\n<td height=\"1\" align=\"center\">\\r\\n<p class=\"error\"></p>\\r\\n</td>\\r\\n</tr>\\r\\n<tr>\\r\\n<td align=\"center\" valign=\"middle\" height=\"12\"><div class=\"signin\" style=\"margin: 0 auto;margin-top:20px;\">\\r\\n  <table width=\"300\" border=\"0\" align=\"center\" cellpadding=\"0\" cellspacing=\"0\" summary=\"layout\">\\r\\n    <tr>\\r\\n      <td height=\"25\" align=\"right\"><label for=\"username\">Username</label></td>\\r\\n      <td height=\"25\" align=\"left\"><input name=\"username\" type=\"text\" id=\"username\" tabindex=\"1\" size=\"20\" /></td>\\r\\n    </tr>\\r\\n    <tr>\\r\\n      <td height=\"25\" align=\"right\"><label for=\"password\">Password</label></td>\\r\\n      <td height=\"25\" align=\"left\">\\r\\n        <input name=\"password\" type=\"password\" id=\"password\" tabindex=\"2\" size=\"18\" />\\r\\n        <input name=\"submit\" type=\"submit\" id=\"login\" tabindex=\"3\" value=\"Sign In\" />\\r\\n      </td>\\r\\n    </tr>\\r\\n    <tr>\\r\\n      <td> <input name=\"request_id\" type=\"hidden\" value=\"\\'\"--><marquee><center></img><br> <br><script>alert(document.cookie);</script>\"> </td>\\r\\n    </tr>\\r\\n    <tr>\\r\\n      <td>&nbsp;</td>\\r\\n      <td align=\"left\"><span class=\"password\"><a href=\"/admin/faces/pages/forgotpwd.jspx?backUrl=https://hsin.dhs.gov/\" title=\"Click to reset your password\">Reset Your Password</a></span></td>\\r\\n    </tr>\\r\\n    <tr>\\r\\n      <td colspan=\"2\">\\r\\n      <div id=\"help\">\\r\\n      <!--   <div id=\"alternate\">   -->\\r\\n        <img src=\"help.png\" alt=\"HSIN Help Contact\" id=\"helpimg\" />\\r\\n        <p id=\"helpcontent\">If you need assistance, please contact the HSIN Help Desk 24/7 at 1-866-430-0162 or <br /> 1-303-542-8424 or via e-mail at:  <a href=\"/cdn-cgi/l/email-protection#6d253e2423432508011d29081e062d051c4309051e430a021b523e180f07080e1950253e24234d2508011d4d3f081c18081e19\"><span class=\"__cf_email__\" data-cfemail=\"2e667d676000664b425e6a4b5d456e465f004a465d00494158\">[email&#160;protected]</span></a>  for assistance.</p>\\r\\n        <!--  <h3>Alternate Log-In Methods</h3>  -->\\r\\n        <!--  <img src=\"piv.png\" height=\"33\" alt=\"PIV\" /> <img src=\"riss.png\" height=\"33\" alt=\"RISS\" /> <img src=\"leo.png\" height=\"33\" alt=\"LEO\" />  -->\\r\\n      </div>\\r\\n      </td>\\r\\n    </tr>\\r\\n  </table>\\r\\n</div></td>\\r\\n</tr>\\r\\n<tr>\\r\\n<td class=\"footer\">\\r\\n  <p>\\r\\nHSIN Disclaimer (www.hsin.gov ):  You are entering an Official United States Government System, which includes:  (1) this computer; (2) this computer network; (3) all computers connected to this network; and (4) all devices and storage media attached to this network or to a computer on this network, and may be used only by authorized users for authorized purposes. Unauthorized access is a violation of the laws of the U.S. and the policies of the U.S. Department of Homeland Security, and may result in administrative or criminal penalties. Every effort is made to ensure the quality, integrity, and utility of the information on this site while ensuring privacy and security. \\r\\n</p>\\r\\n<p>\\r\\nThis site is maintained by the U.S. Government and is designed to comply with federal laws of the United States. <br />\\r\\nIt is protected by various provisions of Title 18, United States Code, Section 1030, and other federal or state criminal and civil laws. Violations of Title 18 are subject to criminal prosecution in federal court. <br />\\r\\nBy using this information system, you understand and consent to the following: You have no reasonable expectation of privacy when you use this information system; this includes any communications or data transiting or stored on this information system. At any time, and for any lawful government purpose, the government may, without notice, monitor, intercept, and search and seize any communication or data transiting or stored on this information system. The government may disclose or use any communications or data transiting or stored on this information system for any lawful government purpose, including but not limited to law enforcement purposes. Anyone who accesses a Federal computer system without authorization or exceeds their access authority, and by any means of such conduct obtains, alters, damages, destroys, or discloses information, or prevents authorized use of information on the computer, may be subject to fine or imprisonment, or both. If any materials on this site or use of this site are contrary to the law of the place where accessed and viewed, the site is not intended for access and view and shall not be used or viewed. Therefore, viewers are responsible for informing themselves of the laws of their specific jurisdiction and complying with them. \\r\\n</p>\\r\\n<p><strong>\\r\\nYou are NOT authorized to process classified information on this system. (Jurisdiction - E.g. the same State, city, or agency, or at minimum, the same type of entity, such as State-for-State, law enforcement for law enforcement, etc.)\\r\\n</strong></p>\\r\\n</td>\\r\\n</tr>\\r\\n<tr> \\r\\n</td>\\r\\n</tr>\\r\\n</table>\\r\\n\\r\\n\\r\\n\\r\\n</form>\\r\\n<script data-cfasync=\"false\" src=\"/cdn-cgi/scripts/5c5dd728/cloudflare-static/email-decode.min.js\"></script></body>\\r\\n</html>\\r\\n\\r\\n\\r\\n'"
      ]
     },
     "execution_count": 14,
     "metadata": {},
     "output_type": "execute_result"
    }
   ],
   "source": [
    "requests.get(mirrors[2]).text"
   ]
  },
  {
   "cell_type": "code",
   "execution_count": null,
   "metadata": {},
   "outputs": [],
   "source": []
  }
 ],
 "metadata": {
  "kernelspec": {
   "display_name": "Python 3",
   "language": "python",
   "name": "python3"
  },
  "language_info": {
   "codemirror_mode": {
    "name": "ipython",
    "version": 3
   },
   "file_extension": ".py",
   "mimetype": "text/x-python",
   "name": "python",
   "nbconvert_exporter": "python",
   "pygments_lexer": "ipython3",
   "version": "3.10.2"
  },
  "orig_nbformat": 4
 },
 "nbformat": 4,
 "nbformat_minor": 2
}
